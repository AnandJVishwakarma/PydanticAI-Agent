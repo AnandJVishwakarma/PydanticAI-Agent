{
 "cells": [
  {
   "cell_type": "code",
   "execution_count": 1,
   "metadata": {},
   "outputs": [],
   "source": [
    "import os\n",
    "import base64\n",
    "import asyncio\n",
    "from dataclasses import dataclass\n",
    "from pydantic import BaseModel, Field\n",
    "from pydantic_ai import Agent, RunContext\n",
    "from dotenv import load_dotenv\n",
    "from openai import OpenAI"
   ]
  },
  {
   "cell_type": "code",
   "execution_count": 7,
   "metadata": {},
   "outputs": [],
   "source": [
    "# Load environment variables\n",
    "load_dotenv()\n",
    "\n",
    "os.environ[\"OPENAI_API_KEY\"] = \"\""
   ]
  },
  {
   "cell_type": "code",
   "execution_count": 3,
   "metadata": {},
   "outputs": [],
   "source": [
    "\n",
    "class LineItem(BaseModel):\n",
    "    \"\"\"Structured representation of a line item in an invoice.\"\"\"\n",
    "    description: str = Field(description=\"Description of the line item.\")\n",
    "    quantity: int = Field(description=\"Quantity of the line item.\")\n",
    "    unit_price: float = Field(description=\"Unit price of the line item.\")\n",
    "    total_price: float = Field(description=\"Total price for the line item.\")\n",
    "\n",
    "\n",
    "class InvoiceExtractionResult(BaseModel):\n",
    "    \"\"\"Structured response for invoice extraction.\"\"\"\n",
    "    total_amount: float = Field(description=\"The total amount extracted from the invoice image.\")\n",
    "    sender: str = Field(description=\"The sender of the invoice.\")\n",
    "    date: str = Field(description=\"The date of the invoice.\")\n",
    "    line_items: list[LineItem] = Field(description=\"The list of line items in the invoice.\")\n"
   ]
  },
  {
   "cell_type": "code",
   "execution_count": 4,
   "metadata": {},
   "outputs": [],
   "source": [
    "class MultimodalLLMService:\n",
    "    \"\"\"Service to interact with OpenAI multimodal LLMs.\"\"\"\n",
    "\n",
    "    def __init__(self, model: str):\n",
    "        self.client = OpenAI(api_key=os.getenv('OPENAI_API_KEY'))\n",
    "        self.model = model\n",
    "\n",
    "    def get_model_name(self) -> str:\n",
    "        \"\"\"Return the name of the model.\"\"\"\n",
    "        return self.model\n",
    "\n",
    "    async def perform_task(self, image_path: str, response_model: type, max_tokens: int = 5000):\n",
    "        \"\"\"Send an image and prompt to the LLM and return structured output.\"\"\"\n",
    "        with open(image_path, \"rb\") as image_file:\n",
    "            base64_image = base64.b64encode(image_file.read()).decode(\"utf-8\")\n",
    "\n",
    "        messages = [\n",
    "            {\"role\": \"system\", \"content\": \"You are an assistant that extracts details from invoices.\"},\n",
    "            {\"role\": \"user\", \"content\": [\n",
    "                {\"type\": \"text\", \"text\": \"Extract the details from this invoice.\"},\n",
    "                {\"type\": \"image_url\", \"image_url\": {\"url\": f\"data:image/png;base64,{base64_image}\"}}\n",
    "            ]}\n",
    "        ]\n",
    "\n",
    "        response = self.client.beta.chat.completions.parse(\n",
    "            model=self.model,\n",
    "            messages=messages,\n",
    "            max_tokens=max_tokens,\n",
    "            response_format=response_model\n",
    "        )\n",
    "        return response.choices[0].message.parsed"
   ]
  },
  {
   "cell_type": "code",
   "execution_count": 8,
   "metadata": {},
   "outputs": [],
   "source": [
    "\n",
    "@dataclass\n",
    "class InvoiceProcessingDependencies:\n",
    "    \"\"\"Dependencies for the invoice processing agent.\"\"\"\n",
    "    llm_service: MultimodalLLMService\n",
    "    invoice_image_path: str\n",
    "\n",
    "\n",
    "invoice_processing_agent = Agent(\n",
    "    \"openai:gpt-4o-mini\",\n",
    "    deps_type=InvoiceProcessingDependencies,\n",
    "    result_type=InvoiceExtractionResult,\n",
    "    system_prompt=\"Extract the total amount, sender, date, and line items from the given invoice image.\"\n",
    ")\n",
    "\n",
    "summary_agent = Agent(\n",
    "    \"openai:gpt-4o-mini\",\n",
    "    result_type=str,\n",
    "    system_prompt=\"Summarize the extracted invoice details into a few sentences.\"\n",
    ")\n",
    "\n",
    "\n",
    "@invoice_processing_agent.tool\n",
    "async def extract_invoice_details(\n",
    "    ctx: RunContext[InvoiceProcessingDependencies]\n",
    ") -> InvoiceExtractionResult:\n",
    "    \"\"\"Custom tool to extract details from an invoice image.\"\"\"\n",
    "    return await ctx.deps.llm_service.perform_task(\n",
    "        image_path=ctx.deps.invoice_image_path,\n",
    "        response_model=InvoiceExtractionResult\n",
    "    )\n",
    "\n"
   ]
  },
  {
   "cell_type": "code",
   "execution_count": 9,
   "metadata": {},
   "outputs": [],
   "source": [
    "\n",
    "async def main():\n",
    "    \"\"\"Run the invoice processing agent.\"\"\"\n",
    "    deps = InvoiceProcessingDependencies(\n",
    "        llm_service=MultimodalLLMService(model=\"gpt-4o-mini\"),\n",
    "        invoice_image_path=\"images/invoice_sample.png\"\n",
    "    )\n",
    "\n",
    "    result = await invoice_processing_agent.run(\n",
    "        \"Extract the total amount, sender, date, and line items from this invoice.\", deps=deps\n",
    "    )\n",
    "    print(\"Structured Result:\", result.data)\n",
    "    print(\"=\" * 100)\n",
    "    summary = await summary_agent.run(\n",
    "        \"Summarize the invoice details in a few sentences.\", message_history=result.new_messages()\n",
    "    )\n",
    "    print(\"Summary:\", summary.data)\n"
   ]
  },
  {
   "cell_type": "code",
   "execution_count": 10,
   "metadata": {},
   "outputs": [
    {
     "ename": "RuntimeError",
     "evalue": "asyncio.run() cannot be called from a running event loop",
     "output_type": "error",
     "traceback": [
      "\u001b[1;31m---------------------------------------------------------------------------\u001b[0m",
      "\u001b[1;31mRuntimeError\u001b[0m                              Traceback (most recent call last)",
      "Cell \u001b[1;32mIn[10], line 2\u001b[0m\n\u001b[0;32m      1\u001b[0m \u001b[38;5;28;01mif\u001b[39;00m \u001b[38;5;18m__name__\u001b[39m \u001b[38;5;241m==\u001b[39m \u001b[38;5;124m\"\u001b[39m\u001b[38;5;124m__main__\u001b[39m\u001b[38;5;124m\"\u001b[39m:\n\u001b[1;32m----> 2\u001b[0m     \u001b[43masyncio\u001b[49m\u001b[38;5;241;43m.\u001b[39;49m\u001b[43mrun\u001b[49m\u001b[43m(\u001b[49m\u001b[43mmain\u001b[49m\u001b[43m(\u001b[49m\u001b[43m)\u001b[49m\u001b[43m)\u001b[49m\n",
      "File \u001b[1;32mc:\\Python312\\Lib\\asyncio\\runners.py:190\u001b[0m, in \u001b[0;36mrun\u001b[1;34m(main, debug, loop_factory)\u001b[0m\n\u001b[0;32m    161\u001b[0m \u001b[38;5;250m\u001b[39m\u001b[38;5;124;03m\"\"\"Execute the coroutine and return the result.\u001b[39;00m\n\u001b[0;32m    162\u001b[0m \n\u001b[0;32m    163\u001b[0m \u001b[38;5;124;03mThis function runs the passed coroutine, taking care of\u001b[39;00m\n\u001b[1;32m   (...)\u001b[0m\n\u001b[0;32m    186\u001b[0m \u001b[38;5;124;03m    asyncio.run(main())\u001b[39;00m\n\u001b[0;32m    187\u001b[0m \u001b[38;5;124;03m\"\"\"\u001b[39;00m\n\u001b[0;32m    188\u001b[0m \u001b[38;5;28;01mif\u001b[39;00m events\u001b[38;5;241m.\u001b[39m_get_running_loop() \u001b[38;5;129;01mis\u001b[39;00m \u001b[38;5;129;01mnot\u001b[39;00m \u001b[38;5;28;01mNone\u001b[39;00m:\n\u001b[0;32m    189\u001b[0m     \u001b[38;5;66;03m# fail fast with short traceback\u001b[39;00m\n\u001b[1;32m--> 190\u001b[0m     \u001b[38;5;28;01mraise\u001b[39;00m \u001b[38;5;167;01mRuntimeError\u001b[39;00m(\n\u001b[0;32m    191\u001b[0m         \u001b[38;5;124m\"\u001b[39m\u001b[38;5;124masyncio.run() cannot be called from a running event loop\u001b[39m\u001b[38;5;124m\"\u001b[39m)\n\u001b[0;32m    193\u001b[0m \u001b[38;5;28;01mwith\u001b[39;00m Runner(debug\u001b[38;5;241m=\u001b[39mdebug, loop_factory\u001b[38;5;241m=\u001b[39mloop_factory) \u001b[38;5;28;01mas\u001b[39;00m runner:\n\u001b[0;32m    194\u001b[0m     \u001b[38;5;28;01mreturn\u001b[39;00m runner\u001b[38;5;241m.\u001b[39mrun(main)\n",
      "\u001b[1;31mRuntimeError\u001b[0m: asyncio.run() cannot be called from a running event loop"
     ]
    }
   ],
   "source": [
    "if __name__ == \"__main__\":\n",
    "    asyncio.run(main())\n"
   ]
  },
  {
   "cell_type": "code",
   "execution_count": 11,
   "metadata": {},
   "outputs": [
    {
     "data": {
      "text/plain": [
       "<coroutine object main at 0x0000024CAE503140>"
      ]
     },
     "execution_count": 11,
     "metadata": {},
     "output_type": "execute_result"
    }
   ],
   "source": [
    "main()"
   ]
  },
  {
   "cell_type": "code",
   "execution_count": null,
   "metadata": {},
   "outputs": [],
   "source": [
    "# Structured Result: \n",
    "# total_amount=2844.8 \n",
    "# sender='Stanford Plumbing & Heating' date='11/11/18' \n",
    "# line_items=[LineItem(description='Installed new kitchen sink (hours)', quantity=3, unit_price=50.0, total_price=150.0), LineItem(description='Toto sink', quantity=1, unit_price=500.0, total_price=500.0), LineItem(description='Worcester greenstar magnetic system filter', quantity=1, unit_price=190.0, total_price=190.0), LineItem(description='Nest smart thermostat', quantity=1, unit_price=250.0, total_price=250.0), LineItem(description='Worcester Greenstar 30i', quantity=1, unit_price=1500.0, total_price=1500.0)]\n",
    "\n",
    "\n",
    "# ====================================================================================================\n",
    "# Summary: The invoice from Stanford Plumbing & Heating, dated November 11, 2018, totals $2,844.80. The line items include labor for installing a new kitchen sink, a Toto sink, a Worcester greenstar magnetic system filter, a Nest smart thermostat, and a Worcester Greenstar 30i. The invoice itemizes various charges, with the most significant cost being the Worcester Greenstar 30i at $1,500."
   ]
  },
  {
   "cell_type": "code",
   "execution_count": null,
   "metadata": {},
   "outputs": [],
   "source": [
    "# # Structured Result: total_amount=655.16 sender='Harshal chandrakant narker' date='24/03/2023' line_items=[LineItem(description='Ride Fee', quantity=1, unit_price=623.96, total_price=623.96), LineItem(description='CGST', quantity=1, unit_price=15.6, total_price=15.6), LineItem(description='SGST', quantity=1, unit_price=15.6, total_price=15.6)]\n",
    "# ====================================================================================================\n",
    "# Summary: The invoice from Harshal Chandrakant Narker, dated March 24, 2023, has a total amount of ₹655.16. It includes a line item for a Ride Fee priced at ₹623.96, along with taxes: CGST and SGST, each costing ₹15.60."
   ]
  }
 ],
 "metadata": {
  "kernelspec": {
   "display_name": "Python 3",
   "language": "python",
   "name": "python3"
  },
  "language_info": {
   "codemirror_mode": {
    "name": "ipython",
    "version": 3
   },
   "file_extension": ".py",
   "mimetype": "text/x-python",
   "name": "python",
   "nbconvert_exporter": "python",
   "pygments_lexer": "ipython3",
   "version": "3.12.1"
  }
 },
 "nbformat": 4,
 "nbformat_minor": 2
}
